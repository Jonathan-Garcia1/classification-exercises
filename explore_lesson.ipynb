{
 "cells": [
  {
   "cell_type": "code",
   "execution_count": 4,
   "id": "bd6694f4",
   "metadata": {},
   "outputs": [],
   "source": [
    "import pandas as pd\n",
    "import matplotlib.pyplot as plt\n",
    "import seaborn as sns\n",
    "\n",
    "from scipy import stats\n",
    "from adam_prepare import titanic_pipeline"
   ]
  },
  {
   "cell_type": "code",
   "execution_count": 2,
   "id": "cd926d74",
   "metadata": {},
   "outputs": [
    {
     "data": {
      "text/plain": [
       "((623, 10), (134, 10), (134, 10))"
      ]
     },
     "execution_count": 2,
     "metadata": {},
     "output_type": "execute_result"
    }
   ],
   "source": [
    "train, val, test = titanic_pipeline()\n",
    "\n",
    "train.shape, val.shape, test.shape,"
   ]
  },
  {
   "cell_type": "code",
   "execution_count": 9,
   "id": "df5a4a55",
   "metadata": {},
   "outputs": [
    {
     "data": {
      "image/png": "[encoded data removed]",
      "text/plain": [
       "<Figure size 640x480 with 1 Axes>"
      ]
     },
     "metadata": {},
     "output_type": "display_data"
    }
   ],
   "source": [
    "sns.histplot(data= train, x= 'age', hue= 'survived')\n",
    "plt.show()"
   ]
  },
  {
   "cell_type": "markdown",
   "id": "b7cfcee2",
   "metadata": {},
   "source": [
    "<div style='background-color: #F5F5F5; padding-left: 40px; padding-top: 10px; padding-bottom: 10px; padding-right: 10px; color: #1A5E7F; font-size: 18px; box-sizing: border-box;'>\n",
    "Lets Run a two-tailed, two sample independent t-test"
   ]
  },
  {
   "cell_type": "code",
   "execution_count": 12,
   "id": "17071720",
   "metadata": {},
   "outputs": [
    {
     "data": {
      "text/plain": [
       "748    19.0\n",
       "45     29.0\n",
       "633    29.0\n",
       "403    28.0\n",
       "695    52.0\n",
       "       ... \n",
       "544    50.0\n",
       "680    29.0\n",
       "476    34.0\n",
       "736    48.0\n",
       "462    47.0\n",
       "Name: age, Length: 384, dtype: float64"
      ]
     },
     "execution_count": 12,
     "metadata": {},
     "output_type": "execute_result"
    }
   ],
   "source": [
    "train[train.survived == 0].age"
   ]
  },
  {
   "cell_type": "code",
   "execution_count": 13,
   "id": "1bc9be67",
   "metadata": {},
   "outputs": [
    {
     "data": {
      "text/plain": [
       "28     29.0\n",
       "720     6.0\n",
       "209    40.0\n",
       "727    29.0\n",
       "345    24.0\n",
       "       ... \n",
       "689    15.0\n",
       "797    31.0\n",
       "820    52.0\n",
       "190    32.0\n",
       "136    19.0\n",
       "Name: age, Length: 239, dtype: float64"
      ]
     },
     "execution_count": 13,
     "metadata": {},
     "output_type": "execute_result"
    }
   ],
   "source": [
    "train[train.survived == 1].age"
   ]
  },
  {
   "cell_type": "code",
   "execution_count": 14,
   "id": "58bd60cb",
   "metadata": {},
   "outputs": [
    {
     "data": {
      "text/plain": [
       "(2.3909581216339655, 0.01710125924230745)"
      ]
     },
     "execution_count": 14,
     "metadata": {},
     "output_type": "execute_result"
    }
   ],
   "source": [
    "t_age, p_age = stats.ttest_ind(train[train.survived == 0].age, train[train.survived == 1].age)\n",
    "t_age, p_age"
   ]
  },
  {
   "cell_type": "code",
   "execution_count": 16,
   "id": "8363ee03",
   "metadata": {},
   "outputs": [],
   "source": [
    "def eval_p(p, alpha= 0.05):\n",
    "    if p < alpha:\n",
    "        print('Reject null hypothesis')\n",
    "    else:\n",
    "        print('Failed to reject the null hypothesis')"
   ]
  },
  {
   "cell_type": "code",
   "execution_count": 17,
   "id": "ad909630",
   "metadata": {},
   "outputs": [
    {
     "name": "stdout",
     "output_type": "stream",
     "text": [
      "Reject null hypothesis\n"
     ]
    }
   ],
   "source": [
    "eval_p(p_age)"
   ]
  },
  {
   "cell_type": "code",
   "execution_count": null,
   "id": "9d31d11d",
   "metadata": {},
   "outputs": [],
   "source": []
  }
 ],
 "metadata": {
  "kernelspec": {
   "display_name": "Python 3 (ipykernel)",
   "language": "python",
   "name": "python3"
  },
  "language_info": {
   "codemirror_mode": {
    "name": "ipython",
    "version": 3
   },
   "file_extension": ".py",
   "mimetype": "text/x-python",
   "name": "python",
   "nbconvert_exporter": "python",
   "pygments_lexer": "ipython3",
   "version": "3.10.12"
  }
 },
 "nbformat": 4,
 "nbformat_minor": 5
}
