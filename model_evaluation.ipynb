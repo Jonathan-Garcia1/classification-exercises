{
 "cells": [
  {
   "cell_type": "markdown",
   "metadata": {},
   "source": [
    "<h1 class=\"alert alert-block alert-success\" style=\"font-size: 20px;\"> Methodologies I > Classification > Evaluation </h1>"
   ]
  },
  {
   "cell_type": "markdown",
   "metadata": {},
   "source": [
    "<div style='background-color: #F5F5F5; padding-left: 40px; padding-top: 10px; padding-bottom: 5px; padding-right: 10px; color: #1A5E7F; font-size: 18px; box-sizing: border-box;'>Table\n",
    "\n",
    "\n",
    "|              | pred dog 🟢   | pred cat 🔴   |\n",
    "|:------------ |:-------------------:|:-------------------:|\n",
    "| actual dog    <span style=\"background-color:#2ECC40\">✔️ |  <span style=\"background-color:#2ECC40\">✔️</span>  46   🟢 |   <span style=\"background-color:#2ECC40\">✔️</span>  7  🔴 |\n",
    "| actual cat    <span style=\"background-color:#FF4136\">✖️ |  <span style=\"background-color:#FF4136\">✖️</span>  13   🟢 |   <span style=\"background-color:#FF4136\">✖️</span>  34  🔴 |\n"
   ]
  },
  {
   "cell_type": "markdown",
   "metadata": {},
   "source": [
    "\n",
    "Accuracy = Ratio of true predictions (<span style=\"background-color:#2ECC40\">✔️</span> <span style=\"color:#FF4136\">and</span> 🟢) + (<span style=\"background-color:#FF4136\">✖️</span> <span style=\"color:#FF4136\">and</span> 🔴 ) to total number of preductions (all).\n",
    "\n",
    "Precision = Ratio of true positive predictions (<span style=\"background-color:#2ECC40\">✔️</span> <span style=\"color:#FF4136\">and</span> 🟢) to total number of predicted positive cases 🟢.\n",
    "\n",
    "Recall = Ratio of true positive predictions (<span style=\"background-color:#2ECC40\">✔️</span> <span style=\"color:#FF4136\">and</span> 🟢) to total number of actual positive cases <span style=\"background-color:#2ECC40\">✔️</span>."
   ]
  },
  {
   "cell_type": "markdown",
   "metadata": {},
   "source": [
    "<h2 class=\"alert alert-block alert-info\" style=\"font-size: 20px;\"> 2) Given the following confusion matrix, evaluate (by hand) the model's performance. </h2>"
   ]
  },
  {
   "cell_type": "markdown",
   "metadata": {},
   "source": [
    "|               | pred dog   | pred cat   |\n",
    "|:------------  |-----------:|-----------:|\n",
    "| actual dog    |         46 |         7  |\n",
    "| actual cat    |         13 |         34 |\n"
   ]
  },
  {
   "cell_type": "markdown",
   "metadata": {},
   "source": [
    "<div style='background-color: #F5F5F5; padding-left: 40px; padding-top: 10px; padding-bottom: 5px; padding-right: 10px; color: Green; font-size: 18px; box-sizing: border-box;'>\n",
    "\n",
    "Accuracy\n",
    "\n",
    "Number of correct guessess over all guesses/observations\n",
    "\n",
    "46+34 / 46+13+7+34\n",
    "\n",
    "\n",
    "\n",
    "Precision\n",
    "\n",
    "Number of true positives (actual positive AND guessed positive) over all positive guesses.\n",
    "\n",
    "46 / 46+13\n",
    "\n",
    "Recall\n",
    "\n",
    "Number of true positives (actual positive AND guessed positive) over all actual positive. \n",
    "\n",
    "46 / 46+7"
   ]
  },
  {
   "cell_type": "markdown",
   "metadata": {},
   "source": [
    "<div style='background-color: #F5F5F5; padding-left: 40px; padding-top: 10px; padding-bottom: 10px; padding-right: 10px; color: #1A5E7F; font-size: 18px; box-sizing: border-box;'>\n",
    "In the context of this problem, what is a false positive?\n",
    "\n",
    "<div style='background-color: #F5F5F5; padding-left: 40px; padding-top: 10px; padding-bottom: 5px; padding-right: 10px; color: Green; font-size: 18px; box-sizing: border-box;'>\n",
    "\n",
    "Predicted a cat AND was an actual cat\n"
   ]
  },
  {
   "cell_type": "markdown",
   "metadata": {},
   "source": [
    "<div style='background-color: #F5F5F5; padding-left: 40px; padding-top: 10px; padding-bottom: 10px; padding-right: 10px; color: #1A5E7F; font-size: 18px; box-sizing: border-box;'>\n",
    "In the context of this problem, what is a false negative?\n",
    "\n",
    "<div style='background-color: #F5F5F5; padding-left: 40px; padding-top: 10px; padding-bottom: 5px; padding-right: 10px; color: Green; font-size: 18px; box-sizing: border-box;'>\n",
    "\n",
    "Predicted a cat AND was a dog"
   ]
  },
  {
   "cell_type": "markdown",
   "metadata": {},
   "source": [
    "<div style='background-color: #F5F5F5; padding-left: 40px; padding-top: 10px; padding-bottom: 10px; padding-right: 10px; color: #1A5E7F; font-size: 18px; box-sizing: border-box;'>\n",
    "How would you describe this model?\n",
    "\n"
   ]
  },
  {
   "cell_type": "markdown",
   "metadata": {},
   "source": [
    "<div class=\"alert alert-block alert-info\" style=\"font-size: 20px;\">\n",
    "\n",
    "3) You are working as a datascientist working for Codeup Cody Creator (C3 for short), a rubber-duck manufacturing plant.\n",
    "Unfortunately, some of the rubber ducks that are produced will have defects. Your team has built several models that try to predict those defects, and the data from their predictions\n"
   ]
  },
  {
   "cell_type": "code",
   "execution_count": null,
   "metadata": {},
   "outputs": [],
   "source": [
    "import seaborn as sns\n",
    "import pandas as pd\n",
    "import os\n",
    "import matplotlib.pyplot as plt"
   ]
  },
  {
   "cell_type": "code",
   "execution_count": 9,
   "metadata": {},
   "outputs": [
    {
     "data": {
      "text/html": [
       "<div>\n",
       "<style scoped>\n",
       "    .dataframe tbody tr th:only-of-type {\n",
       "        vertical-align: middle;\n",
       "    }\n",
       "\n",
       "    .dataframe tbody tr th {\n",
       "        vertical-align: top;\n",
       "    }\n",
       "\n",
       "    .dataframe thead th {\n",
       "        text-align: right;\n",
       "    }\n",
       "</style>\n",
       "<table border=\"1\" class=\"dataframe\">\n",
       "  <thead>\n",
       "    <tr style=\"text-align: right;\">\n",
       "      <th></th>\n",
       "      <th>actual</th>\n",
       "      <th>model1</th>\n",
       "      <th>model2</th>\n",
       "      <th>model3</th>\n",
       "    </tr>\n",
       "  </thead>\n",
       "  <tbody>\n",
       "    <tr>\n",
       "      <th>0</th>\n",
       "      <td>No Defect</td>\n",
       "      <td>No Defect</td>\n",
       "      <td>Defect</td>\n",
       "      <td>No Defect</td>\n",
       "    </tr>\n",
       "    <tr>\n",
       "      <th>1</th>\n",
       "      <td>No Defect</td>\n",
       "      <td>No Defect</td>\n",
       "      <td>Defect</td>\n",
       "      <td>Defect</td>\n",
       "    </tr>\n",
       "    <tr>\n",
       "      <th>2</th>\n",
       "      <td>No Defect</td>\n",
       "      <td>No Defect</td>\n",
       "      <td>Defect</td>\n",
       "      <td>No Defect</td>\n",
       "    </tr>\n",
       "    <tr>\n",
       "      <th>3</th>\n",
       "      <td>No Defect</td>\n",
       "      <td>Defect</td>\n",
       "      <td>Defect</td>\n",
       "      <td>Defect</td>\n",
       "    </tr>\n",
       "    <tr>\n",
       "      <th>4</th>\n",
       "      <td>No Defect</td>\n",
       "      <td>No Defect</td>\n",
       "      <td>Defect</td>\n",
       "      <td>No Defect</td>\n",
       "    </tr>\n",
       "  </tbody>\n",
       "</table>\n",
       "</div>"
      ],
      "text/plain": [
       "      actual     model1  model2     model3\n",
       "0  No Defect  No Defect  Defect  No Defect\n",
       "1  No Defect  No Defect  Defect     Defect\n",
       "2  No Defect  No Defect  Defect  No Defect\n",
       "3  No Defect     Defect  Defect     Defect\n",
       "4  No Defect  No Defect  Defect  No Defect"
      ]
     },
     "execution_count": 9,
     "metadata": {},
     "output_type": "execute_result"
    }
   ],
   "source": [
    "df_c3 = pd.read_csv('c3.csv')\n",
    "df_c3.head()"
   ]
  },
  {
   "cell_type": "markdown",
   "metadata": {},
   "source": [
    "<div style='background-color: #F5F5F5; padding-left: 40px; padding-top: 10px; padding-bottom: 10px; padding-right: 10px; color: #1A5E7F; font-size: 18px; box-sizing: border-box;'>\n",
    "\n",
    "- An internal team wants to investigate the cause of the manufacturing defects. They tell you that they want to identify as many of the ducks that have a defect as possible. Which evaluation metric would be appropriate here? Which model would be the best fit for this use case?\n"
   ]
  },
  {
   "cell_type": "markdown",
   "metadata": {},
   "source": [
    "<div style='background-color: #F5F5F5; padding-left: 40px; padding-top: 10px; padding-bottom: 10px; padding-right: 10px; color: Green; font-size: 18px; box-sizing: border-box;'>\n",
    "\n",
    "The best metric would ge recall because it is the ration of true positives over total actual positives"
   ]
  },
  {
   "cell_type": "code",
   "execution_count": 21,
   "metadata": {},
   "outputs": [
    {
     "data": {
      "text/plain": [
       "True     190\n",
       "False     10\n",
       "Name: count, dtype: int64"
      ]
     },
     "execution_count": 21,
     "metadata": {},
     "output_type": "execute_result"
    }
   ],
   "source": [
    "model1_TP = (df_c3.model1 == df_c3.actual).value_counts()\n",
    "model1_TP"
   ]
  },
  {
   "cell_type": "code",
   "execution_count": 23,
   "metadata": {},
   "outputs": [
    {
     "data": {
      "text/plain": [
       "model1\n",
       "No Defect    190\n",
       "Defect        10\n",
       "Name: count, dtype: int64"
      ]
     },
     "execution_count": 23,
     "metadata": {},
     "output_type": "execute_result"
    }
   ],
   "source": [
    "df_c3.model1.value_counts()"
   ]
  },
  {
   "cell_type": "code",
   "execution_count": 22,
   "metadata": {},
   "outputs": [
    {
     "data": {
      "text/plain": [
       "actual\n",
       "No Defect    184\n",
       "Defect        16\n",
       "Name: count, dtype: int64"
      ]
     },
     "execution_count": 22,
     "metadata": {},
     "output_type": "execute_result"
    }
   ],
   "source": [
    "df_c3.actual.value_counts()"
   ]
  },
  {
   "cell_type": "markdown",
   "metadata": {},
   "source": []
  },
  {
   "cell_type": "markdown",
   "metadata": {},
   "source": [
    "<div style='background-color: #F5F5F5; padding-left: 40px; padding-top: 10px; padding-bottom: 10px; padding-right: 10px; color: #1A5E7F; font-size: 18px; box-sizing: border-box;'>\n",
    "\n",
    "- Recently several stories in the local news have come out highlighting customers who received a rubber duck with a defect, and portraying C3 in a bad light. The PR team has decided to launch a program that gives customers with a defective duck a vacation to Hawaii. They need you to predict which ducks will have defects, but tell you the really don't want to accidentally give out a vacation package when the duck really doesn't have a defect. Which evaluation metric would be appropriate here? Which model would be the best fit for this use case?"
   ]
  },
  {
   "cell_type": "code",
   "execution_count": null,
   "metadata": {},
   "outputs": [],
   "source": []
  }
 ],
 "metadata": {
  "kernelspec": {
   "display_name": "base",
   "language": "python",
   "name": "python3"
  },
  "language_info": {
   "codemirror_mode": {
    "name": "ipython",
    "version": 3
   },
   "file_extension": ".py",
   "mimetype": "text/x-python",
   "name": "python",
   "nbconvert_exporter": "python",
   "pygments_lexer": "ipython3",
   "version": "3.10.12"
  },
  "orig_nbformat": 4
 },
 "nbformat": 4,
 "nbformat_minor": 2
}
